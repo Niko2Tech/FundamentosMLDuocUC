{
  "cells": [
    {
      "cell_type": "markdown",
      "metadata": {
        "id": "8G_kuP7pwa-i"
      },
      "source": [
        "<img src='https://upload.wikimedia.org/wikipedia/commons/thumb/a/aa/Logo_DuocUC.svg/2560px-Logo_DuocUC.svg.png' width=50%, height=20%>"
      ]
    },
    {
      "cell_type": "markdown",
      "metadata": {
        "id": "p3rbyRw_iseJ"
      },
      "source": [
        "# Introducción\n",
        "\n",
        "Matrices y Aritmetica de Matrices para Machine Learning\n",
        "Extracto de código generado por Jason Brownlee\n",
        "*\n",
        "## Para este ejercicio usaremos la biblioteca NUMPY\n",
        "\n",
        "NumPy es una librería de Python para computación científica. NumPy significa  Python numérico. \n",
        "\n",
        "El principal beneficio de NumPy es que permite una generación y manejo de datos extremadamente rápido. NumPy tiene su propia estructura de datos incorporada llamado arreglo que es similar a la lista normal de Python, pero puede almacenar y operar con datos de manera mucho más eficiente.\n",
        "\n",
        "Hay dos tipos diferentes de arreglos de NumPy: vectores y matrices.\n",
        "\n",
        "\n"
      ]
    },
    {
      "cell_type": "code",
      "execution_count": 1,
      "metadata": {
        "id": "jFaPPCCug_TJ"
      },
      "outputs": [
        {
          "name": "stdout",
          "output_type": "stream",
          "text": [
            "[[1 2 3]\n",
            " [4 5 6]]\n"
          ]
        }
      ],
      "source": [
        "# creación de matrices\n",
        "from numpy import array\n",
        "A = array([[1, 2, 3], [4, 5, 6]])\n",
        "print(A)"
      ]
    },
    {
      "cell_type": "code",
      "execution_count": 2,
      "metadata": {
        "id": "ym527992hKUs"
      },
      "outputs": [
        {
          "name": "stdout",
          "output_type": "stream",
          "text": [
            "[[1 2 3]\n",
            " [4 5 6]]\n",
            "[[1 2 3]\n",
            " [4 5 6]]\n",
            "[[ 2  4  6]\n",
            " [ 8 10 12]]\n"
          ]
        }
      ],
      "source": [
        "# suma de matrices\n",
        "from numpy import array\n",
        "A = array([[1, 2, 3], [4, 5, 6]])\n",
        "print(A)\n",
        "B = array([[1, 2, 3], [4, 5, 6]])\n",
        "print(B)\n",
        "C = A + B\n",
        "print(C)"
      ]
    },
    {
      "cell_type": "code",
      "execution_count": 3,
      "metadata": {
        "id": "zoeCEUXdhgof"
      },
      "outputs": [
        {
          "name": "stdout",
          "output_type": "stream",
          "text": [
            "[[1 2 3]\n",
            " [4 5 6]]\n",
            "[[0.5 0.5 0.5]\n",
            " [0.5 0.5 0.5]]\n",
            "[[0.5 1.5 2.5]\n",
            " [3.5 4.5 5.5]]\n"
          ]
        }
      ],
      "source": [
        "# resta de matrices matrices\n",
        "from numpy import array\n",
        "A = array([[1, 2, 3], [4, 5, 6]])\n",
        "print(A)\n",
        "B = array([[0.5, 0.5, 0.5], [0.5, 0.5, 0.5]])\n",
        "print(B)\n",
        "C = A - B\n",
        "print(C)"
      ]
    },
    {
      "cell_type": "markdown",
      "metadata": {
        "id": "9qniy6SIjfNJ"
      },
      "source": [
        "# Producto Hadamart o multiplicación de matrices\n",
        "Dos matrices con el mismo tamaño se pueden multiplicar juntas, y esto a menudo se denomina multiplicación de matrices por elementos o producto de Hadamard.\n",
        "\n",
        "."
      ]
    },
    {
      "cell_type": "code",
      "execution_count": 4,
      "metadata": {
        "id": "4ReD44Sthj_x"
      },
      "outputs": [
        {
          "name": "stdout",
          "output_type": "stream",
          "text": [
            "[[1 2 3]\n",
            " [4 5 6]]\n",
            "[[1 2 3]\n",
            " [4 5 6]]\n",
            "[[ 1  4  9]\n",
            " [16 25 36]]\n"
          ]
        }
      ],
      "source": [
        "# element-wise multiply matrices\n",
        "from numpy import array\n",
        "A = array([[1, 2, 3], [4, 5, 6]])\n",
        "print(A)\n",
        "B = array([[1, 2, 3], [4, 5, 6]])\n",
        "print(B)\n",
        "C = A * B\n",
        "print(C)"
      ]
    },
    {
      "cell_type": "code",
      "execution_count": 5,
      "metadata": {
        "id": "7G9T8EyyhmkD"
      },
      "outputs": [
        {
          "name": "stdout",
          "output_type": "stream",
          "text": [
            "[[1 2 3]\n",
            " [4 5 6]]\n",
            "[[1 2 3]\n",
            " [4 5 6]]\n",
            "[[1. 1. 1.]\n",
            " [1. 1. 1.]]\n"
          ]
        }
      ],
      "source": [
        "# divide matrices\n",
        "from numpy import array\n",
        "A = array([[1, 2, 3], [4, 5, 6]])\n",
        "print(A)\n",
        "B = array([[1, 2, 3], [4, 5, 6]])\n",
        "print(B)\n",
        "C = A / B\n",
        "print(C)"
      ]
    },
    {
      "cell_type": "markdown",
      "metadata": {
        "id": "b84fBlqzkvbG"
      },
      "source": [
        "# Producto PUNTO.\n",
        "\n",
        "La multiplicación de matrices, también llamada producto escalar de matrices, implica una regla, ya que no todas las matrices se pueden multiplicar juntas.\n",
        "\n",
        "La regla para la multiplicación de matrices es la siguiente:\n",
        "\n",
        "***El número de columnas (n) de la primera matriz (A) debe ser igual al número de filas (m) de la segunda matriz (B).***\n",
        "\n",
        "Esta regla se aplica a una cadena de multiplicaciones de matrices en las que el número de columnas de una matriz de la cadena debe coincidir con el número de filas de la siguiente matriz de la cadena.\n",
        "\n",
        "***Una de las operaciones más importantes que involucran matrices es la multiplicación de dos matrices. El producto matricial de las matrices A y B es una tercera matriz C. Para que se defina este producto, A debe tener el mismo número de columnas que B tiene filas. Si A tiene forma m × n y B tiene forma n × p, entonces C tiene forma m × p.***\n",
        "\n",
        "— Página 34, Deep Learning, 2016."
      ]
    },
    {
      "cell_type": "code",
      "execution_count": 6,
      "metadata": {
        "id": "WgMMQ_VQhwOA"
      },
      "outputs": [
        {
          "name": "stdout",
          "output_type": "stream",
          "text": [
            "[[1 2]\n",
            " [3 4]\n",
            " [5 6]]\n",
            "[[1 2]\n",
            " [3 4]]\n",
            "[[ 7 10]\n",
            " [15 22]\n",
            " [23 34]]\n"
          ]
        }
      ],
      "source": [
        "# producto punto\n",
        "from numpy import array\n",
        "A = array([[1, 2], [3, 4], [5, 6]])\n",
        "print(A)\n",
        "B = array([[1, 2], [3, 4]])\n",
        "print(B)\n",
        "C = A.dot(B)\n",
        "print(C)"
      ]
    },
    {
      "cell_type": "code",
      "execution_count": 7,
      "metadata": {
        "id": "TMA6Ck83h06q"
      },
      "outputs": [
        {
          "name": "stdout",
          "output_type": "stream",
          "text": [
            "[[1 2]\n",
            " [3 4]\n",
            " [5 6]]\n",
            "[0.5 0.5]\n",
            "[1.5 3.5 5.5]\n",
            "[1.5 3.5 5.5]\n"
          ]
        }
      ],
      "source": [
        "# multiplicación de vector por matriz\n",
        "from numpy import array\n",
        "A = array([[1, 2], [3, 4], [5, 6]])\n",
        "print(A)\n",
        "B = array([0.5, 0.5])\n",
        "print(B)\n",
        "C = A.dot(B)\n",
        "print(C)\n",
        "D = A @ B\n",
        "print(D)"
      ]
    },
    {
      "cell_type": "code",
      "execution_count": 8,
      "metadata": {
        "id": "JUxt5dafh4vJ"
      },
      "outputs": [
        {
          "name": "stdout",
          "output_type": "stream",
          "text": [
            "[[1 2]\n",
            " [3 4]\n",
            " [5 6]]\n",
            "0.5\n",
            "[[0.5 1. ]\n",
            " [1.5 2. ]\n",
            " [2.5 3. ]]\n"
          ]
        }
      ],
      "source": [
        "# multiplicación de escalar por matriz\n",
        "from numpy import array\n",
        "A = array([[1, 2], [3, 4], [5, 6]])\n",
        "print(A)\n",
        "b = 0.5\n",
        "print(b)\n",
        "C = A * b\n",
        "print(C)"
      ]
    },
    {
      "cell_type": "markdown",
      "metadata": {
        "id": "ntgQJEbtmMFW"
      },
      "source": [
        "SISTEMAS DE ECUACIONES LINEALES\n",
        "\n",
        "Para resolver un sistema de ecuaciones lineales, necesitamos realizar dos operaciones: inversión de matriz y un producto escalar de matriz. La biblioteca Numpy de Python admite ambas operaciones.\n",
        "\n",
        "Resolvamos el siguiente sistema de ecuaciones lineales:"
      ]
    },
    {
      "cell_type": "code",
      "execution_count": null,
      "metadata": {
        "id": "E8Wljzttt_k2"
      },
      "outputs": [],
      "source": [
        "# 4x  + 3y = 20\n",
        "# -5x + 9y = 26\n"
      ]
    },
    {
      "cell_type": "markdown",
      "metadata": {
        "id": "ENzx9Nrwmmd_"
      },
      "source": [
        "En el siguiente script, creamos una lista llamada m_list, que además contiene dos listas: [4,3] y [-5,9]. Estas listas son las dos filas de la matriz A. Para crear la matriz A con Numpy, m_list se pasa al método array como se muestra a continuación:"
      ]
    },
    {
      "cell_type": "code",
      "execution_count": 9,
      "metadata": {
        "id": "K4hCoUrHmokc"
      },
      "outputs": [],
      "source": [
        "import numpy as np\n",
        "m_list = [[4, 3], [-5, 9]]\n",
        "A = np.array(m_list)"
      ]
    },
    {
      "cell_type": "markdown",
      "metadata": {
        "id": "YAfCQnx0m1DY"
      },
      "source": [
        "Para encontrar la inversa de una matriz, la matriz se pasa al método linalg.inv() del módulo Numpy:"
      ]
    },
    {
      "cell_type": "code",
      "execution_count": 10,
      "metadata": {
        "colab": {
          "base_uri": "https://localhost:8080/"
        },
        "id": "YvG_7pG4m2bB",
        "outputId": "a462c035-000b-4f5e-8d04-de62d0c0d846"
      },
      "outputs": [
        {
          "name": "stdout",
          "output_type": "stream",
          "text": [
            "[[ 0.17647059 -0.05882353]\n",
            " [ 0.09803922  0.07843137]]\n"
          ]
        }
      ],
      "source": [
        "inv_A = np.linalg.inv(A)\n",
        "\n",
        "print(inv_A)"
      ]
    },
    {
      "cell_type": "markdown",
      "metadata": {
        "id": "SyzHiyI3nHi2"
      },
      "source": [
        "El siguiente paso es encontrar el producto punto entre la inversa de la matriz ‘A’ y la matriz ‘B’. Es importante mencionar que el producto punto de matrices solo es posible entre las matrices si las dimensiones internas de las matrices son iguales, es decir, el número de columnas de la matriz de la izquierda debe coincidir con el número de filas de la matriz de la derecha.\n",
        "\n",
        "Para encontrar el producto punto con la biblioteca Numpy, se usa la función linalg.dot(). El siguiente script encuentra el producto punto entre la inversa de la matriz A y la matriz B."
      ]
    },
    {
      "cell_type": "code",
      "execution_count": 11,
      "metadata": {
        "id": "06b4UTxOnMfQ"
      },
      "outputs": [
        {
          "name": "stdout",
          "output_type": "stream",
          "text": [
            "[2. 4.]\n"
          ]
        }
      ],
      "source": [
        "B = np.array([20, 26])\n",
        "X = np.linalg.inv(A).dot(B)\n",
        "\n",
        "print(X)"
      ]
    },
    {
      "cell_type": "markdown",
      "metadata": {
        "id": "TtAoSkP-nUxD"
      },
      "source": [
        "Aquí, 2 y 4 son los valores respectivos para las incógnitas x e y en la ecuación. Para verificar, si insertas 2 en lugar de la incógnita x y 4 en lugar de la incógnita y en la ecuación 4x + 3y, verás que el resultado será 20.\n",
        "\n",
        "Resolvamos ahora un sistema de tres ecuaciones lineales, como se muestra a continuación:"
      ]
    },
    {
      "cell_type": "code",
      "execution_count": null,
      "metadata": {
        "id": "Knau68WOndJb"
      },
      "outputs": [],
      "source": [
        "# 4x + 3y + 2z = 25\n",
        "# -2x + 2y + 3z = -10\n",
        "# 3x -5y + 2z = -4\n"
      ]
    },
    {
      "cell_type": "markdown",
      "metadata": {
        "id": "UwQLupyCnkqI"
      },
      "source": [
        "La ecuación anterior se puede resolver usando la biblioteca Numpy de la siguiente manera:"
      ]
    },
    {
      "cell_type": "code",
      "execution_count": null,
      "metadata": {
        "id": "jwAC0DJFnlrg"
      },
      "outputs": [],
      "source": [
        "A = np.array([[4, 3, 2], [-2, 2, 3], [3, -5, 2]])\n",
        "B = np.array([25, -10, -4])\n",
        "X = np.linalg.inv(A).dot(B)\n",
        "\n",
        "print(X)\n"
      ]
    },
    {
      "cell_type": "markdown",
      "metadata": {
        "id": "RLAM3XVwnt8R"
      },
      "source": [
        "El valor de las incógnitas x, y y z son 5, 3 y -2, respectivamente. Puede introducir estos valores en Ecuación 2 y verificar su exactitud."
      ]
    },
    {
      "cell_type": "markdown",
      "metadata": {
        "id": "EQA8PSfInu0S"
      },
      "source": [
        "## Método Solved\n",
        "En los dos ejemplos anteriores, usamos los métodos linalg.inv() y linalg.dot() para encontrar la solución del sistema de ecuaciones. Sin embargo, la biblioteca Numpy contiene el método linalg.solve(), que se puede usar para encontrar directamente la solución de un sistema de ecuaciones lineales:"
      ]
    },
    {
      "cell_type": "code",
      "execution_count": null,
      "metadata": {
        "id": "2nEA0KmHn37o"
      },
      "outputs": [],
      "source": [
        "A = np.array([[4, 3, 2], [-2, 2, 3], [3, -5, 2]])\n",
        "B = np.array([25, -10, -4])\n",
        "X2 = np.linalg.solve(A,B)\n",
        "\n",
        "print(X2)\n"
      ]
    },
    {
      "cell_type": "markdown",
      "metadata": {
        "id": "iMjwla0in-Nl"
      },
      "source": [
        "## EJERCICIO\n",
        "\n",
        "Suponga que un vendedor de frutas vendió 20 mangos y 10 naranjas en un día por un total de $350. Al día siguiente vendió 17 mangos y 22 naranjas por $350.\n",
        "\n",
        "Al dıa siguiente vendio 17mangos y 22 naranjas por $500.\n",
        "\n",
        "Si los precios de las frutas permanecieron sin cambios en ambos días, ¿cuál fue el precio de un mango y una naranja?\n"
      ]
    },
    {
      "cell_type": "code",
      "execution_count": 2,
      "metadata": {},
      "outputs": [
        {
          "name": "stdout",
          "output_type": "stream",
          "text": [
            "el precio del mango es 10.0\n",
            "el precio las naranjas es 15.0\n"
          ]
        }
      ],
      "source": [
        "# definimos las matrices\n",
        "import numpy as np\n",
        "a = np.array([[20, 10], \n",
        "              [17, 22]])\n",
        "b = np.array([350, 500])\n",
        "\n",
        "# resolvemos el sistema de ecuaciones\n",
        "x = np.linalg.solve(a, b)\n",
        "\n",
        "print(f\"el precio del mango es {x[0].round()}\")\n",
        "print(f\"el precio las naranjas es {x[1].round()}\")"
      ]
    }
  ],
  "metadata": {
    "colab": {
      "provenance": []
    },
    "kernelspec": {
      "display_name": "machinelear",
      "language": "python",
      "name": "python3"
    },
    "language_info": {
      "codemirror_mode": {
        "name": "ipython",
        "version": 3
      },
      "file_extension": ".py",
      "mimetype": "text/x-python",
      "name": "python",
      "nbconvert_exporter": "python",
      "pygments_lexer": "ipython3",
      "version": "3.12.3"
    }
  },
  "nbformat": 4,
  "nbformat_minor": 0
}
