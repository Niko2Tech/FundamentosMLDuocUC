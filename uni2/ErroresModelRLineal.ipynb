{
 "cells": [
  {
   "cell_type": "markdown",
   "metadata": {},
   "source": [
    "# Regresion lineal\n",
    "## Error absoluto o maximo"
   ]
  },
  {
   "cell_type": "code",
   "execution_count": 1,
   "metadata": {},
   "outputs": [
    {
     "data": {
      "text/plain": [
       "np.int64(10)"
      ]
     },
     "execution_count": 1,
     "metadata": {},
     "output_type": "execute_result"
    }
   ],
   "source": [
    "# error absoluto máximo\n",
    "from sklearn.metrics import max_error\n",
    "y_verdadero = [1,2,3,4,5]\n",
    "y_prediccion = [1,2,3,4,-5]\n",
    "max_error(y_verdadero, y_prediccion)"
   ]
  },
  {
   "cell_type": "code",
   "execution_count": null,
   "metadata": {},
   "outputs": [],
   "source": [
    "# error absoluto medio da la media de los errores absolutos\n",
    "from sklearn.metrics import mean_absolute_error\n",
    "y_verdadero = [1,2,3,4,5]\n",
    "y_prediccion = [1,2,3,4,-5]\n",
    "mean_absolute_error(y_verdadero, y_prediccion)"
   ]
  },
  {
   "cell_type": "code",
   "execution_count": null,
   "metadata": {},
   "outputs": [],
   "source": [
    "# error cuadratico medio da peso a los errores mas grandes\n",
    "from sklearn.metrics import mean_squared_error\n",
    "y_verdadero = [1,2,3,4,5]\n",
    "y_prediccion = [1,2,3,4,-5]\n",
    "mean_squared_error(y_verdadero, y_prediccion)"
   ]
  },
  {
   "cell_type": "code",
   "execution_count": null,
   "metadata": {},
   "outputs": [],
   "source": [
    "# suma de los cuadrados de los errores\n",
    "from sklearn.metrics import mean_squared_error\n",
    "y_verdadero = [1,2,3,4,5]\n",
    "y_prediccion = [1,2,3,4,-5]\n",
    "mean_squared_error(y_verdadero, y_prediccion)*len(y_verdadero)"
   ]
  },
  {
   "cell_type": "code",
   "execution_count": null,
   "metadata": {},
   "outputs": [],
   "source": [
    "# raiz cuadrada del error cuadratico medio da una idea de la magnitud del error\n",
    "from sklearn.metrics import mean_squared_error\n",
    "y_verdadero = [1,2,3,4,5]\n",
    "y_prediccion = [1,2,3,4,-5]\n",
    "mean_squared_error(y_verdadero, y_prediccion)**0.5"
   ]
  },
  {
   "cell_type": "code",
   "execution_count": null,
   "metadata": {},
   "outputs": [],
   "source": [
    "# coeficiente de determinación r2 solo para modelos de regresión lineal\n",
    "from sklearn.metrics import r2_score\n",
    "y_verdadero = [1,2,3,4,5]\n",
    "y_prediccion = [1,2,3,4,3]\n",
    "r2_score(y_verdadero, y_prediccion)"
   ]
  },
  {
   "cell_type": "code",
   "execution_count": null,
   "metadata": {},
   "outputs": [],
   "source": []
  }
 ],
 "metadata": {
  "kernelspec": {
   "display_name": "machinelear",
   "language": "python",
   "name": "python3"
  },
  "language_info": {
   "codemirror_mode": {
    "name": "ipython",
    "version": 3
   },
   "file_extension": ".py",
   "mimetype": "text/x-python",
   "name": "python",
   "nbconvert_exporter": "python",
   "pygments_lexer": "ipython3",
   "version": "3.12.3"
  }
 },
 "nbformat": 4,
 "nbformat_minor": 2
}
