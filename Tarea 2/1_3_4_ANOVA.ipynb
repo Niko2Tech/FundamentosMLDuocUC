{
  "cells": [
    {
      "cell_type": "markdown",
      "metadata": {
        "id": "12fo6LDZuuCu"
      },
      "source": [
        "<img src='https://upload.wikimedia.org/wikipedia/commons/thumb/a/aa/Logo_DuocUC.svg/2560px-Logo_DuocUC.svg.png' width=50%, height=20%>"
      ]
    },
    {
      "cell_type": "markdown",
      "metadata": {
        "id": "H0C7K8luVsBv"
      },
      "source": [
        "# INTRODUCCION\n",
        "\n",
        "Para este ejemplo, usaremos un grupo de datos de estudiantes ya graduados y trataremos de probar si su grado afecta su salario.\n",
        "\n",
        "Sea μ el salario medio anual de los graduados.\n",
        "\n",
        "Supongamos que tenemos 6 categorías de materias de estudio:= Matemáticas y Estadística, Economía y Finanzas, Ciencias Ambientales, Ciencias Políticas, Ciencias Sociales y Biología.\n",
        "\n",
        "Por lo tanto, hay 6 niveles o grupos de este único factor que afecta la media del salario anual de los graduados.\n",
        "\n",
        "La idea básica detrás de un ANOVA  es tomar muestras aleatorias independientes de cada grupo y luego calcular las medias de muestra para cada grupo. Después de eso, comparar la variación de las medias muestrales entre los grupos con la variación dentro de los grupos. Finalmente, tomar una decisión basada en una prueba estadística, ya sea que las medias de los grupos sean todas iguales o no."
      ]
    },
    {
      "cell_type": "code",
      "execution_count": 1,
      "metadata": {
        "id": "k4rWRxPbRuk2"
      },
      "outputs": [
        {
          "data": {
            "text/html": [
              "<div>\n",
              "<style scoped>\n",
              "    .dataframe tbody tr th:only-of-type {\n",
              "        vertical-align: middle;\n",
              "    }\n",
              "\n",
              "    .dataframe tbody tr th {\n",
              "        vertical-align: top;\n",
              "    }\n",
              "\n",
              "    .dataframe thead th {\n",
              "        text-align: right;\n",
              "    }\n",
              "</style>\n",
              "<table border=\"1\" class=\"dataframe\">\n",
              "  <thead>\n",
              "    <tr style=\"text-align: right;\">\n",
              "      <th></th>\n",
              "      <th>major</th>\n",
              "      <th>salary</th>\n",
              "    </tr>\n",
              "  </thead>\n",
              "  <tbody>\n",
              "    <tr>\n",
              "      <th>0</th>\n",
              "      <td>Biology</td>\n",
              "      <td>87</td>\n",
              "    </tr>\n",
              "    <tr>\n",
              "      <th>1</th>\n",
              "      <td>Economics and Finance</td>\n",
              "      <td>94</td>\n",
              "    </tr>\n",
              "    <tr>\n",
              "      <th>2</th>\n",
              "      <td>Environmental Sciences</td>\n",
              "      <td>97</td>\n",
              "    </tr>\n",
              "    <tr>\n",
              "      <th>3</th>\n",
              "      <td>Mathematics and Statistics</td>\n",
              "      <td>75</td>\n",
              "    </tr>\n",
              "    <tr>\n",
              "      <th>4</th>\n",
              "      <td>Political Science</td>\n",
              "      <td>84</td>\n",
              "    </tr>\n",
              "    <tr>\n",
              "      <th>5</th>\n",
              "      <td>Social Sciences</td>\n",
              "      <td>63</td>\n",
              "    </tr>\n",
              "  </tbody>\n",
              "</table>\n",
              "</div>"
            ],
            "text/plain": [
              "                        major  salary\n",
              "0                     Biology      87\n",
              "1       Economics and Finance      94\n",
              "2      Environmental Sciences      97\n",
              "3  Mathematics and Statistics      75\n",
              "4           Political Science      84\n",
              "5             Social Sciences      63"
            ]
          },
          "execution_count": 1,
          "metadata": {},
          "output_type": "execute_result"
        }
      ],
      "source": [
        "import pandas as pd\n",
        "import random\n",
        "\n",
        "# leer archivo ('students.csv')\n",
        "name = '../data/Students.csv'\n",
        "student_df = pd.read_csv(name, sep=\",\")\n",
        "\n",
        "# filtrar los estudiantes graduados\n",
        "graduated_student_df = student_df[student_df['graduated'] == 1]\n",
        "\n",
        "# muestra random de 500 estudiantes\n",
        "unique_student_id = list(graduated_student_df['stud.id'].unique())\n",
        "random.seed(30) # establecemos una semilla para extraer siempre la misma muestra\n",
        "sample_student_id = random.sample(unique_student_id, 500)\n",
        "sample_df = graduated_student_df[graduated_student_df['stud.id'].isin(sample_student_id)].reset_index(drop=True)\n",
        "\n",
        "# dos variables de interes\n",
        "sample_df = sample_df[['major', 'salary']]\n",
        "groups = sample_df.groupby('major').count().reset_index()\n",
        "#\n",
        "groups"
      ]
    },
    {
      "cell_type": "markdown",
      "metadata": {
        "id": "ABkgdUhTWqnw"
      },
      "source": [
        "# Planteamiento de Hipótesis\n",
        "\n",
        "Recordemos el planteamiento de la hipótesis:\n",
        "\n",
        "\n",
        "H₀: μ₁= μ₂ = μ₃ = … = μ𝒸\n",
        "\n",
        "\n",
        "H₁: No todos los μᵢ son iguales, donde i = 1, 2, 3, …\n",
        "\n",
        "Grados de libertad (ya calculados) = α = 0.05\n",
        "\n",
        "Regla de decisión: se rechaza H₀, cuando F > Fα"
      ]
    },
    {
      "cell_type": "code",
      "execution_count": 2,
      "metadata": {
        "id": "mKbE-hxFTYjZ"
      },
      "outputs": [],
      "source": [
        "import numpy as np \n",
        "# Scipy tiene un paquete o módulo scipy.stats que contiene una gran cantidad de funciones estadísticas.\n",
        "import scipy.stats as stats\n",
        "import matplotlib.pyplot as plt\n"
      ]
    },
    {
      "cell_type": "code",
      "execution_count": 3,
      "metadata": {
        "id": "YjBE9ol2TMTE"
      },
      "outputs": [
        {
          "name": "stderr",
          "output_type": "stream",
          "text": [
            "/tmp/ipykernel_76524/817107024.py:9: FutureWarning: ChainedAssignmentError: behaviour will change in pandas 3.0!\n",
            "You are setting values through chained assignment. Currently this works in certain cases, but when using Copy-on-Write (which will become the default behaviour in pandas 3.0) this will never work to update the original DataFrame or Series, because the intermediate object on which we are setting values will behave as a copy.\n",
            "A typical example is when you are setting values in a column of a DataFrame, like:\n",
            "\n",
            "df[\"col\"][row_indexer] = value\n",
            "\n",
            "Use `df.loc[row_indexer, \"col\"] = values` instead, to perform the assignment in a single step and ensure this keeps updating the original `df`.\n",
            "\n",
            "See the caveats in the documentation: https://pandas.pydata.org/pandas-docs/stable/user_guide/indexing.html#returning-a-view-versus-a-copy\n",
            "\n",
            "  anova_table['SS']['Between Groups'] = SSTR['salary'].sum()\n",
            "/tmp/ipykernel_76524/817107024.py:13: FutureWarning: ChainedAssignmentError: behaviour will change in pandas 3.0!\n",
            "You are setting values through chained assignment. Currently this works in certain cases, but when using Copy-on-Write (which will become the default behaviour in pandas 3.0) this will never work to update the original DataFrame or Series, because the intermediate object on which we are setting values will behave as a copy.\n",
            "A typical example is when you are setting values in a column of a DataFrame, like:\n",
            "\n",
            "df[\"col\"][row_indexer] = value\n",
            "\n",
            "Use `df.loc[row_indexer, \"col\"] = values` instead, to perform the assignment in a single step and ensure this keeps updating the original `df`.\n",
            "\n",
            "See the caveats in the documentation: https://pandas.pydata.org/pandas-docs/stable/user_guide/indexing.html#returning-a-view-versus-a-copy\n",
            "\n",
            "  anova_table['SS']['Within Groups'] = SSE['salary'].sum()\n",
            "/tmp/ipykernel_76524/817107024.py:17: FutureWarning: ChainedAssignmentError: behaviour will change in pandas 3.0!\n",
            "You are setting values through chained assignment. Currently this works in certain cases, but when using Copy-on-Write (which will become the default behaviour in pandas 3.0) this will never work to update the original DataFrame or Series, because the intermediate object on which we are setting values will behave as a copy.\n",
            "A typical example is when you are setting values in a column of a DataFrame, like:\n",
            "\n",
            "df[\"col\"][row_indexer] = value\n",
            "\n",
            "Use `df.loc[row_indexer, \"col\"] = values` instead, to perform the assignment in a single step and ensure this keeps updating the original `df`.\n",
            "\n",
            "See the caveats in the documentation: https://pandas.pydata.org/pandas-docs/stable/user_guide/indexing.html#returning-a-view-versus-a-copy\n",
            "\n",
            "  anova_table['SS']['Total'] = SSTR\n",
            "/tmp/ipykernel_76524/817107024.py:20: FutureWarning: ChainedAssignmentError: behaviour will change in pandas 3.0!\n",
            "You are setting values through chained assignment. Currently this works in certain cases, but when using Copy-on-Write (which will become the default behaviour in pandas 3.0) this will never work to update the original DataFrame or Series, because the intermediate object on which we are setting values will behave as a copy.\n",
            "A typical example is when you are setting values in a column of a DataFrame, like:\n",
            "\n",
            "df[\"col\"][row_indexer] = value\n",
            "\n",
            "Use `df.loc[row_indexer, \"col\"] = values` instead, to perform the assignment in a single step and ensure this keeps updating the original `df`.\n",
            "\n",
            "See the caveats in the documentation: https://pandas.pydata.org/pandas-docs/stable/user_guide/indexing.html#returning-a-view-versus-a-copy\n",
            "\n",
            "  anova_table['df']['Between Groups'] = sample_df['major'].nunique() - 1\n",
            "/tmp/ipykernel_76524/817107024.py:21: FutureWarning: ChainedAssignmentError: behaviour will change in pandas 3.0!\n",
            "You are setting values through chained assignment. Currently this works in certain cases, but when using Copy-on-Write (which will become the default behaviour in pandas 3.0) this will never work to update the original DataFrame or Series, because the intermediate object on which we are setting values will behave as a copy.\n",
            "A typical example is when you are setting values in a column of a DataFrame, like:\n",
            "\n",
            "df[\"col\"][row_indexer] = value\n",
            "\n",
            "Use `df.loc[row_indexer, \"col\"] = values` instead, to perform the assignment in a single step and ensure this keeps updating the original `df`.\n",
            "\n",
            "See the caveats in the documentation: https://pandas.pydata.org/pandas-docs/stable/user_guide/indexing.html#returning-a-view-versus-a-copy\n",
            "\n",
            "  anova_table['df']['Within Groups'] = sample_df.shape[0] - sample_df['major'].nunique()\n",
            "/tmp/ipykernel_76524/817107024.py:22: FutureWarning: ChainedAssignmentError: behaviour will change in pandas 3.0!\n",
            "You are setting values through chained assignment. Currently this works in certain cases, but when using Copy-on-Write (which will become the default behaviour in pandas 3.0) this will never work to update the original DataFrame or Series, because the intermediate object on which we are setting values will behave as a copy.\n",
            "A typical example is when you are setting values in a column of a DataFrame, like:\n",
            "\n",
            "df[\"col\"][row_indexer] = value\n",
            "\n",
            "Use `df.loc[row_indexer, \"col\"] = values` instead, to perform the assignment in a single step and ensure this keeps updating the original `df`.\n",
            "\n",
            "See the caveats in the documentation: https://pandas.pydata.org/pandas-docs/stable/user_guide/indexing.html#returning-a-view-versus-a-copy\n",
            "\n",
            "  anova_table['df']['Total'] = sample_df.shape[0] - 1\n",
            "/tmp/ipykernel_76524/817107024.py:29: FutureWarning: ChainedAssignmentError: behaviour will change in pandas 3.0!\n",
            "You are setting values through chained assignment. Currently this works in certain cases, but when using Copy-on-Write (which will become the default behaviour in pandas 3.0) this will never work to update the original DataFrame or Series, because the intermediate object on which we are setting values will behave as a copy.\n",
            "A typical example is when you are setting values in a column of a DataFrame, like:\n",
            "\n",
            "df[\"col\"][row_indexer] = value\n",
            "\n",
            "Use `df.loc[row_indexer, \"col\"] = values` instead, to perform the assignment in a single step and ensure this keeps updating the original `df`.\n",
            "\n",
            "See the caveats in the documentation: https://pandas.pydata.org/pandas-docs/stable/user_guide/indexing.html#returning-a-view-versus-a-copy\n",
            "\n",
            "  anova_table['F']['Between Groups'] = F\n",
            "/tmp/ipykernel_76524/817107024.py:32: FutureWarning: ChainedAssignmentError: behaviour will change in pandas 3.0!\n",
            "You are setting values through chained assignment. Currently this works in certain cases, but when using Copy-on-Write (which will become the default behaviour in pandas 3.0) this will never work to update the original DataFrame or Series, because the intermediate object on which we are setting values will behave as a copy.\n",
            "A typical example is when you are setting values in a column of a DataFrame, like:\n",
            "\n",
            "df[\"col\"][row_indexer] = value\n",
            "\n",
            "Use `df.loc[row_indexer, \"col\"] = values` instead, to perform the assignment in a single step and ensure this keeps updating the original `df`.\n",
            "\n",
            "See the caveats in the documentation: https://pandas.pydata.org/pandas-docs/stable/user_guide/indexing.html#returning-a-view-versus-a-copy\n",
            "\n",
            "  anova_table['P-value']['Between Groups'] = 1 - stats.f.cdf(F, anova_table['df']['Between Groups'], anova_table['df']['Within Groups'])\n",
            "/tmp/ipykernel_76524/817107024.py:40: FutureWarning: ChainedAssignmentError: behaviour will change in pandas 3.0!\n",
            "You are setting values through chained assignment. Currently this works in certain cases, but when using Copy-on-Write (which will become the default behaviour in pandas 3.0) this will never work to update the original DataFrame or Series, because the intermediate object on which we are setting values will behave as a copy.\n",
            "A typical example is when you are setting values in a column of a DataFrame, like:\n",
            "\n",
            "df[\"col\"][row_indexer] = value\n",
            "\n",
            "Use `df.loc[row_indexer, \"col\"] = values` instead, to perform the assignment in a single step and ensure this keeps updating the original `df`.\n",
            "\n",
            "See the caveats in the documentation: https://pandas.pydata.org/pandas-docs/stable/user_guide/indexing.html#returning-a-view-versus-a-copy\n",
            "\n",
            "  anova_table['F crit']['Between Groups'] = stats.f.ppf(1-alpha, anova_table['df']['Between Groups'], anova_table['df']['Within Groups'])\n"
          ]
        },
        {
          "data": {
            "text/html": [
              "<div>\n",
              "<style scoped>\n",
              "    .dataframe tbody tr th:only-of-type {\n",
              "        vertical-align: middle;\n",
              "    }\n",
              "\n",
              "    .dataframe tbody tr th {\n",
              "        vertical-align: top;\n",
              "    }\n",
              "\n",
              "    .dataframe thead th {\n",
              "        text-align: right;\n",
              "    }\n",
              "</style>\n",
              "<table border=\"1\" class=\"dataframe\">\n",
              "  <thead>\n",
              "    <tr style=\"text-align: right;\">\n",
              "      <th></th>\n",
              "      <th>SS</th>\n",
              "      <th>df</th>\n",
              "      <th>MS</th>\n",
              "      <th>F</th>\n",
              "      <th>P-value</th>\n",
              "      <th>F crit</th>\n",
              "    </tr>\n",
              "    <tr>\n",
              "      <th>Source of Variation</th>\n",
              "      <th></th>\n",
              "      <th></th>\n",
              "      <th></th>\n",
              "      <th></th>\n",
              "      <th></th>\n",
              "      <th></th>\n",
              "    </tr>\n",
              "  </thead>\n",
              "  <tbody>\n",
              "    <tr>\n",
              "      <th>Between Groups</th>\n",
              "      <td>24184075535.074078</td>\n",
              "      <td>5</td>\n",
              "      <td>4836815107.014815</td>\n",
              "      <td>77.408037</td>\n",
              "      <td>0.0</td>\n",
              "      <td>2.592178</td>\n",
              "    </tr>\n",
              "    <tr>\n",
              "      <th>Within Groups</th>\n",
              "      <td>30867423591.219269</td>\n",
              "      <td>494</td>\n",
              "      <td>62484663.14012</td>\n",
              "      <td></td>\n",
              "      <td></td>\n",
              "      <td></td>\n",
              "    </tr>\n",
              "    <tr>\n",
              "      <th>Total</th>\n",
              "      <td>55051499126.29335</td>\n",
              "      <td>499</td>\n",
              "      <td>110323645.543674</td>\n",
              "      <td></td>\n",
              "      <td></td>\n",
              "      <td></td>\n",
              "    </tr>\n",
              "  </tbody>\n",
              "</table>\n",
              "</div>"
            ],
            "text/plain": [
              "                                     SS   df                 MS          F  \\\n",
              "Source of Variation                                                          \n",
              "Between Groups       24184075535.074078    5  4836815107.014815  77.408037   \n",
              "Within Groups        30867423591.219269  494     62484663.14012              \n",
              "Total                 55051499126.29335  499   110323645.543674              \n",
              "\n",
              "                    P-value    F crit  \n",
              "Source of Variation                    \n",
              "Between Groups          0.0  2.592178  \n",
              "Within Groups                          \n",
              "Total                                  "
            ]
          },
          "execution_count": 3,
          "metadata": {},
          "output_type": "execute_result"
        }
      ],
      "source": [
        "# Crea la tabla principal de ANOVA\n",
        "data = [['Between Groups', '', '', '', '', '', ''], ['Within Groups', '', '', '', '', '', ''], ['Total', '', '', '', '', '', '']] \n",
        "anova_table = pd.DataFrame(data, columns = ['Source of Variation', 'SS', 'df', 'MS', 'F', 'P-value', 'F crit']) \n",
        "anova_table.set_index('Source of Variation', inplace = True)\n",
        "\n",
        "# calcula ENTRE los grupos\n",
        "x_bar = sample_df['salary'].mean()\n",
        "SSTR = sample_df.groupby('major').count() * (sample_df.groupby('major').mean() - x_bar)**2\n",
        "anova_table['SS']['Between Groups'] = SSTR['salary'].sum()\n",
        "\n",
        "# calcula EN los grupos\n",
        "SSE = (sample_df.groupby('major').count() - 1) * sample_df.groupby('major').std()**2\n",
        "anova_table['SS']['Within Groups'] = SSE['salary'].sum()\n",
        "\n",
        "# calcula el total\n",
        "SSTR = SSTR['salary'].sum() + SSE['salary'].sum()\n",
        "anova_table['SS']['Total'] = SSTR\n",
        "\n",
        "# Actualiza los grados de libertad\n",
        "anova_table['df']['Between Groups'] = sample_df['major'].nunique() - 1\n",
        "anova_table['df']['Within Groups'] = sample_df.shape[0] - sample_df['major'].nunique()\n",
        "anova_table['df']['Total'] = sample_df.shape[0] - 1\n",
        "\n",
        "# calcula la media de los cuadrados\n",
        "anova_table['MS'] = anova_table['SS'] / anova_table['df']\n",
        "\n",
        "# calcula F \n",
        "F = anova_table['MS']['Between Groups'] / anova_table['MS']['Within Groups']\n",
        "anova_table['F']['Between Groups'] = F\n",
        "\n",
        "# p-value\n",
        "anova_table['P-value']['Between Groups'] = 1 - stats.f.cdf(F, anova_table['df']['Between Groups'], anova_table['df']['Within Groups'])\n",
        "\n",
        "# F critico \n",
        "alpha = 0.05\n",
        "# \n",
        "tail_hypothesis_type = \"two-tailed\"\n",
        "if tail_hypothesis_type == \"two-tailed\":\n",
        "    alpha /= 2\n",
        "anova_table['F crit']['Between Groups'] = stats.f.ppf(1-alpha, anova_table['df']['Between Groups'], anova_table['df']['Within Groups'])\n",
        "\n",
        "# Mostrar tabla ANOVA\n",
        "anova_table"
      ]
    },
    {
      "cell_type": "code",
      "execution_count": 4,
      "metadata": {
        "id": "gUZGSAIJTkdO"
      },
      "outputs": [
        {
          "name": "stdout",
          "output_type": "stream",
          "text": [
            "\n",
            "--------------------------------------------------------------------------------------\n",
            "El enfoque del valor crítico para la prueba de hipótesis en la regla de decisión\n",
            "F-score es: 77.40803685167356  y valor critico es: 2.592178494905\n",
            "Se rechaza la hipótesis nula.\n"
          ]
        }
      ],
      "source": [
        "    \n",
        "# Resultado final\n",
        "print(\"\\n--------------------------------------------------------------------------------------\")\n",
        "print(\"El enfoque del valor crítico para la prueba de hipótesis en la regla de decisión\")\n",
        "conclusion = \"No se pudo rechazar la hipótesis nula.\"\n",
        "if anova_table['F']['Between Groups'] > anova_table['F crit']['Between Groups']:\n",
        "    conclusion = \"Se rechaza la hipótesis nula.\"\n",
        "print(\"F-score es:\", anova_table['F']['Between Groups'], \" y valor critico es:\", anova_table['F crit']['Between Groups'])\n",
        "print(conclusion)"
      ]
    },
    {
      "cell_type": "markdown",
      "metadata": {
        "id": "eScr7mTgZ6aH"
      },
      "source": [
        "# Conclusión: \n",
        "Hay suficiente evidencia de que no todos los salarios promedio son iguales para los egresados de las diferentes materias de estudio, con un 5% de nivel de significancia."
      ]
    },
    {
      "cell_type": "markdown",
      "metadata": {
        "id": "w6KuvLI8y9x1"
      },
      "source": [
        "EJERCICIO : INTENTA PROBAR CON DIFERENTES GRADOS DE LIBERTAD (según el valor encontrado de F) Y VE QUE PASA CON LA HIPOTESIS....\n"
      ]
    }
  ],
  "metadata": {
    "colab": {
      "provenance": []
    },
    "kernelspec": {
      "display_name": "machinelear",
      "language": "python",
      "name": "python3"
    },
    "language_info": {
      "codemirror_mode": {
        "name": "ipython",
        "version": 3
      },
      "file_extension": ".py",
      "mimetype": "text/x-python",
      "name": "python",
      "nbconvert_exporter": "python",
      "pygments_lexer": "ipython3",
      "version": "3.12.3"
    }
  },
  "nbformat": 4,
  "nbformat_minor": 0
}
